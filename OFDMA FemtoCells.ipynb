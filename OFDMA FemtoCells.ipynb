{
 "cells": [
  {
   "cell_type": "code",
   "execution_count": 10,
   "metadata": {},
   "outputs": [
    {
     "name": "stdout",
     "output_type": "stream",
     "text": [
      "(64,)\n",
      "(32,)\n"
     ]
    }
   ],
   "source": [
    "import numpy as np\n",
    "import matplotlib.pyplot as plt\n",
    "import scipy.linalg as la\n",
    "\n",
    "def generate_pow_chan(power_profile_dB):\n",
    "    power_profile=10**(0.1*power_profile_dB)\n",
    "    return np.array(\\\n",
    "                    [(np.random.normal(0.0, 0.5*power_profile[index]) + \\\n",
    "                     (1.0j)*np.random.normal(0.0, 0.5*power_profile[index]))\\\n",
    "                     for index in range(power_profile.shape[0])])\n",
    "\n",
    "def generate_frequency_dependent_chan(delay_profile, chan_pow):\n",
    "    L=delay_profile.shape[0]\n",
    "    U = lambda f: ((np.exp(-1.0j*2*np.pi*f*delay_profile))*(chan_pow)).sum(axis=0)\n",
    "    return U\n",
    "\n",
    "# Sim Params\n",
    "macroBSTx=43\n",
    "femtoBSTx=15\n",
    "macroUETx=25\n",
    "femtoUETx=10\n",
    "D12=1000\n",
    "R1=200\n",
    "N0_Hz=-174\n",
    "macro_loss=lambda R: 128.1+37.6*np.log10(R/1000)\n",
    "Lv=6.9\n",
    "femto_loss=lambda R,n: 37 + 32*np.log10(R)+n*Lv\n",
    "fading_const=8\n",
    "\n",
    "# Frequency Array\n",
    "center_frequency=0.0\n",
    "bandwidth_macro=2e+6\n",
    "start_frequency_macro=center_frequency-(bandwidth_macro/2)\n",
    "end_frequency_macro=center_frequency+(bandwidth_macro/2)\n",
    "bandwidth_femto=1e+6\n",
    "start_frequency_femto=center_frequency-(bandwidth_femto/2)\n",
    "end_frequency_femto=center_frequency+(bandwidth_femto/2)\n",
    "#----------------------------------------------------------------------\n",
    "# FFT Params\n",
    "number_bins=64\n",
    "N_subcarrier_macro=64\n",
    "bins_left_edges=np.linspace(start_frequency_macro, end_frequency_macro, num=(number_bins+1))[:number_bins]\n",
    "bin_size=bins_left_edges[1]-bins_left_edges[0]\n",
    "freq_arr_macro=bins_left_edges+(bin_size/2)\n",
    "number_bins=32\n",
    "N_subcarrier_femto=32\n",
    "bins_left_edges=np.linspace(start_frequency_femto, end_frequency_femto, num=(number_bins+1))[:number_bins]\n",
    "bin_size=bins_left_edges[1]-bins_left_edges[0]\n",
    "freq_arr_femto=bins_left_edges+(bin_size/2)\n",
    "#----------------------------------------------------------------------\n",
    "\n",
    "chan_power_V=np.array([0,-1.5,-1.4,-3.6,-0.6,-9.1,-7.0,-12.0,-16.9]) #in dB\n",
    "chan_delay_V=np.array([0,30,150,310,370,710,1090,1730,2510])# in ns\n",
    "chan_power_P=np.array([0,-1.0,-2.0,-3.0,-8.0, -17.2,-20.8]) # in dB\n",
    "chan_delay_P=np.array([0,30,70,90,110,190,410]) #in ns\n",
    "\n",
    "chan_pow_P=generate_pow_chan(chan_power_P)\n",
    "chan_pow_V=generate_pow_chan(chan_power_V)\n",
    "\n",
    "freq_chan_P=generate_frequency_dependent_chan(chan_delay_P,chan_pow_P)\n",
    "freq_chan_V=generate_frequency_dependent_chan(chan_delay_V,chan_pow_V)\n",
    "\n",
    "femto_list_P=np.array(list(map(freq_chan_P, freq_arr_femto)))\n",
    "femto_list_V=np.array(list(map(freq_chan_V, freq_arr_femto)))\n",
    "macro_list_P=np.array(list(map(freq_chan_P, freq_arr_macro)))\n",
    "macro_list_V=np.array(list(map(freq_chan_V, freq_arr_macro)))\n",
    "\n",
    "# print(macro_list_P.shape)\n",
    "# print(femto_list_P.shape)"
   ]
  },
  {
   "cell_type": "markdown",
   "metadata": {},
   "source": [
    "## References\n",
    "* LTE Throughput calculations : [Paper by Babkin et al](http://iot.sut.ru/08.pdf)"
   ]
  }
 ],
 "metadata": {
  "kernelspec": {
   "display_name": "Python 3",
   "language": "python",
   "name": "python3"
  },
  "language_info": {
   "codemirror_mode": {
    "name": "ipython",
    "version": 3
   },
   "file_extension": ".py",
   "mimetype": "text/x-python",
   "name": "python",
   "nbconvert_exporter": "python",
   "pygments_lexer": "ipython3",
   "version": "3.4.3"
  }
 },
 "nbformat": 4,
 "nbformat_minor": 2
}
